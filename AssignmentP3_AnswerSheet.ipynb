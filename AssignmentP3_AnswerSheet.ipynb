{
 "cells": [
  {
   "cell_type": "markdown",
   "metadata": {},
   "source": [
    "Daniel Koltai\n",
    "\n",
    "2123303"
   ]
  },
  {
   "cell_type": "markdown",
   "metadata": {},
   "source": [
    "# 3A: Time series classification"
   ]
  },
  {
   "cell_type": "markdown",
   "metadata": {},
   "source": [
    "Your time-series challenge is to classify whether a child’s handwriting is affected by dysgraphia (a writing\n",
    "disorder). The dataset is a modified dataset obtained from [1]. Data was collected using a using a WACOM\n",
    "Intuos Pro Large tablet. The children wrote with 3 letter ’l’s with a pen on paper that was positioned on\n",
    "the tablet. The features are all numeric and represent the 5 different signals collected from the tablet over\n",
    "time.\n",
    "\n",
    "- pen movement in the x-direction,\n",
    "- pen movement in the y-direction\n",
    "- whether the pen was on the surface (1) or in the air (0)\n",
    "- the pressure of the pen on the tablet surface\n",
    "- the azimuth of the pen on the tablet surface\n",
    "\n",
    "There are no missing values in the dataset.\n",
    "You are provided a file ts_challenge.npz contains 2 numpy arrays, 1 being the features, and the other\n",
    "being the labels. You can load the file by using the following line of code if you put the file in the same\n",
    "folder as your code file (e.g., notebook):"
   ]
  },
  {
   "cell_type": "code",
   "execution_count": 3,
   "metadata": {},
   "outputs": [],
   "source": [
    "import numpy as np\n",
    "data = np.load('ts_challenge.npz')\n",
    "X = data['arr_0']\n",
    "y = data['arr_1']"
   ]
  },
  {
   "cell_type": "code",
   "execution_count": 4,
   "metadata": {},
   "outputs": [
    {
     "name": "stdout",
     "output_type": "stream",
     "text": [
      "(120, 4, 2000)\n",
      "(120,)\n"
     ]
    }
   ],
   "source": [
    "print(data['arr_0'].shape)\n",
    "print(data['arr_1'].shape)"
   ]
  },
  {
   "cell_type": "markdown",
   "metadata": {},
   "source": [
    "Your task is to train a KNN time series classifier and another classifier of your choice, to classify whether\n",
    "the time series data is from a child with or without dysgraphia. You should also compare model performances."
   ]
  },
  {
   "cell_type": "markdown",
   "metadata": {},
   "source": [
    "## 1. (4 points) \n",
    "Split your dataset into testing and training data. Train a KNN time series classifier with 5\n",
    "nearest neighbours. The classifier will serve as your baseline. Evaluate the classification accuracy on the\n",
    "test set."
   ]
  },
  {
   "cell_type": "code",
   "execution_count": 5,
   "metadata": {},
   "outputs": [],
   "source": [
    "# Split your dataset into testing and training data\n",
    "from sklearn.model_selection import train_test_split\n",
    "X_train, X_test, y_train, y_test = train_test_split(X, y, test_size=0.2)"
   ]
  },
  {
   "cell_type": "code",
   "execution_count": 6,
   "metadata": {},
   "outputs": [
    {
     "name": "stdout",
     "output_type": "stream",
     "text": [
      "(120, 4, 2000)\n",
      "(120,)\n",
      "(96, 4, 2000)\n",
      "(96,)\n",
      "(24, 4, 2000)\n",
      "(24,)\n"
     ]
    }
   ],
   "source": [
    "print(X.shape)\n",
    "print(y.shape)\n",
    "print(X_train.shape)\n",
    "print(y_train.shape)\n",
    "print(X_test.shape)\n",
    "print(y_test.shape)"
   ]
  },
  {
   "cell_type": "code",
   "execution_count": 7,
   "metadata": {},
   "outputs": [
    {
     "name": "stderr",
     "output_type": "stream",
     "text": [
      "/home/codespace/.python/current/lib/python3.10/site-packages/tslearn/bases/bases.py:15: UserWarning: h5py not installed, hdf5 features will not be supported.\n",
      "Install h5py to use hdf5 features: http://docs.h5py.org/\n",
      "  warn(h5py_msg)\n"
     ]
    },
    {
     "data": {
      "text/plain": [
       "0.7083333333333334"
      ]
     },
     "execution_count": 7,
     "metadata": {},
     "output_type": "execute_result"
    }
   ],
   "source": [
    "# Train a KNN time series classifier with 5 nearest neighbours\n",
    "from tslearn.neighbors import KNeighborsTimeSeriesClassifier\n",
    "from sklearn.metrics import accuracy_score\n",
    "\n",
    "clf = KNeighborsTimeSeriesClassifier(n_neighbors=5)\n",
    "clf.get_params()\n",
    "clf.fit(X_train, y_train)\n",
    "y_pred = clf.predict(X_test)\n",
    "# for simplest evaluation, compare ground truth to predictions\n",
    "accuracy_score(y_test, y_pred)\n"
   ]
  },
  {
   "cell_type": "markdown",
   "metadata": {},
   "source": [
    "## 2 (4 points) \n",
    "Using GridSearchCV on the training data, fit the KNN time series classifier with a 5-fold\n",
    "cross validation. Find the nearest neighbour hyperparameter with 3 different C values. Evaluate the\n",
    "classification accuracy on the test set."
   ]
  },
  {
   "cell_type": "code",
   "execution_count": 8,
   "metadata": {},
   "outputs": [
    {
     "name": "stdout",
     "output_type": "stream",
     "text": [
      "{'n_neighbors': 5}\n",
      "0.636842105263158\n"
     ]
    }
   ],
   "source": [
    "from sklearn.model_selection import GridSearchCV\n",
    "param_grid = {'n_neighbors': [3, 5, 7]}\n",
    "clf = KNeighborsTimeSeriesClassifier()\n",
    "grid_search = GridSearchCV(clf, param_grid, cv=5)\n",
    "grid_search.fit(X_train, y_train)\n",
    "print(grid_search.best_params_)\n",
    "print(grid_search.best_score_)\n"
   ]
  },
  {
   "cell_type": "markdown",
   "metadata": {},
   "source": [
    "## 3. (5 points) \n",
    "Train another time series classifier of your choice. Evaluate the classification accuracy."
   ]
  },
  {
   "cell_type": "code",
   "execution_count": 10,
   "metadata": {},
   "outputs": [
    {
     "data": {
      "text/plain": [
       "Counter({0: 63, 1: 57})"
      ]
     },
     "execution_count": 10,
     "metadata": {},
     "output_type": "execute_result"
    }
   ],
   "source": [
    "# count the number of times each class appears\n",
    "from collections import Counter\n",
    "Counter(y)"
   ]
  },
  {
   "cell_type": "code",
   "execution_count": 12,
   "metadata": {},
   "outputs": [
    {
     "name": "stdout",
     "output_type": "stream",
     "text": [
      "1\n",
      "2066.0645\n",
      "2201.528933341497\n",
      "405.1245\n",
      "1148.5986357295353\n",
      "0.5905\n",
      "0.4917415479700694\n",
      "1155.75\n",
      "578.5647219628933\n"
     ]
    }
   ],
   "source": [
    "# explore the data\n",
    "# for X[0] calculate the mean and standard deviation of the time series for all 4 channels\n",
    "print(y[0])\n",
    "for i in range(4):\n",
    "    print(np.mean(X[0][i]))\n",
    "    print(np.std(X[0][i]))\n"
   ]
  },
  {
   "cell_type": "code",
   "execution_count": null,
   "metadata": {},
   "outputs": [],
   "source": []
  },
  {
   "cell_type": "code",
   "execution_count": 1,
   "metadata": {},
   "outputs": [],
   "source": [
    "# Bag of Symbolic Fourier Approximation Symbols (BOSS)\n"
   ]
  },
  {
   "cell_type": "code",
   "execution_count": null,
   "metadata": {},
   "outputs": [],
   "source": [
    "# CATCH-22 Canonical Time-series Characteristics"
   ]
  },
  {
   "cell_type": "code",
   "execution_count": null,
   "metadata": {},
   "outputs": [],
   "source": [
    "# ROCKET Random Convolutional Kernel Transform"
   ]
  },
  {
   "cell_type": "code",
   "execution_count": null,
   "metadata": {},
   "outputs": [],
   "source": [
    "# HIVE-COTE 2.0 Hierarchical Vote Collective of Transformation-based Ensembles"
   ]
  },
  {
   "cell_type": "markdown",
   "metadata": {},
   "source": [
    "## 4. (2 points) \n",
    "You are provided with a hold-out test set (without any labels). With your best classifiter,\n",
    "predict the class of each instance in the hold-out test set. Save your predicted results in a csv file and\n",
    "upload this file onto Canvas."
   ]
  }
 ],
 "metadata": {
  "kernelspec": {
   "display_name": "Python 3",
   "language": "python",
   "name": "python3"
  },
  "language_info": {
   "codemirror_mode": {
    "name": "ipython",
    "version": 3
   },
   "file_extension": ".py",
   "mimetype": "text/x-python",
   "name": "python",
   "nbconvert_exporter": "python",
   "pygments_lexer": "ipython3",
   "version": "3.10.13"
  }
 },
 "nbformat": 4,
 "nbformat_minor": 2
}
